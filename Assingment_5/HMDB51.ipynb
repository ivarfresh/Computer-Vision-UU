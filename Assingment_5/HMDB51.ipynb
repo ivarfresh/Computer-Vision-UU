{
 "cells": [
  {
   "cell_type": "markdown",
   "id": "ac002443-033d-4eb1-a0cb-a87bcf1223fa",
   "metadata": {},
   "source": [
    "## Dependencies"
   ]
  },
  {
   "cell_type": "code",
   "execution_count": null,
   "id": "4dc7d56b-3dc8-4311-8083-71ab9cd800f2",
   "metadata": {},
   "outputs": [],
   "source": [
    "import os\n",
    "import shutil\n",
    "import cv2\n",
    "import glob\n",
    "import random\n",
    "import numpy as np\n",
    "import tensorflow as tf\n",
    "import matplotlib.pyplot as plt\n",
    "from collections import Counter\n",
    "from sklearn.model_selection import train_test_split\n",
    "from tensorflow.keras.optimizers import Adam"
   ]
  },
  {
   "cell_type": "markdown",
   "id": "d662b268-250e-4e08-b691-772bd66066c5",
   "metadata": {},
   "source": [
    "## Data Download"
   ]
  },
  {
   "cell_type": "code",
   "execution_count": null,
   "id": "660dcb1a-4458-4134-84a8-1a1bc615002c",
   "metadata": {},
   "outputs": [],
   "source": [
    "# Download HMDB51 data and splits from serre lab website\n",
    "! wget http://serre-lab.clps.brown.edu/wp-content/uploads/2013/10/hmdb51_org.rar\n",
    "! wget http://serre-lab.clps.brown.edu/wp-content/uploads/2013/10/test_train_splits.rar"
   ]
  },
  {
   "cell_type": "code",
   "execution_count": null,
   "id": "9f3f39c9-c416-406e-b60e-b01f4e2726ae",
   "metadata": {},
   "outputs": [],
   "source": [
    "!mkdir -p video_data test_train_splits\n",
    "!unrar e test_train_splits.rar test_train_splits\n",
    "!rm test_train_splits.rar\n",
    "!unrar e hmdb51_org.rar \n",
    "!rm hmdb51_org.rar\n",
    "!mv *.rar video_data\n",
    "\n",
    "import os\n",
    "\n",
    "keep_hmdb51 = [\"clap\", \"climb\", \"drink\", \"jump\", \"pour\", \"ride_bike\", \"ride_horse\", \n",
    "        \"run\", \"shoot_bow\", \"smoke\", \"throw\", \"wave\"]\n",
    "\n",
    "for files in os.listdir('video_data'):\n",
    "    foldername = files.split('.')[0]\n",
    "    if foldername in keep_hmdb51:\n",
    "        os.system(\"mkdir -p video_data/\" + foldername)\n",
    "        os.system(\"unrar e video_data/\"+ files + \" video_data/\"+foldername)\n",
    "\n",
    "!rm video_data/*.rar"
   ]
  },
  {
   "cell_type": "markdown",
   "id": "b703894c-f3f3-4652-9695-e3851a2a529b",
   "metadata": {},
   "source": [
    "## Data Preprocess & Split"
   ]
  },
  {
   "cell_type": "code",
   "execution_count": 5,
   "id": "7f854ef4-d921-4513-99b5-2ff80d49c24d",
   "metadata": {},
   "outputs": [],
   "source": [
    "keep_hmdb51 = [\"clap\", \"climb\", \"drink\", \"jump\", \"pour\", \"ride_bike\", \"ride_horse\", \n",
    "        \"run\", \"shoot_bow\", \"smoke\", \"throw\", \"wave\"]\n",
    "\n",
    "TRAIN_TAG, TEST_TAG = 1, 2\n",
    "train_files, test_files = [], []\n",
    "train_labels, test_labels = [], []\n",
    "split_pattern_name = f\"*test_split1.txt\"\n",
    "split_pattern_path = os.path.join('HMDB51/test_train_splits', split_pattern_name)\n",
    "annotation_paths = glob.glob(split_pattern_path)\n",
    "for filepath in annotation_paths:\n",
    "    class_name = '_'.join(filepath.split('/')[-1].split('_')[:-2])\n",
    "    if class_name not in keep_hmdb51:\n",
    "        continue  # skipping the classes that we won't use.\n",
    "    with open(filepath) as fid:\n",
    "        lines = fid.readlines()\n",
    "    for line in lines:\n",
    "        video_filename, tag_string = line.split()\n",
    "        tag = int(tag_string)\n",
    "        if tag == TRAIN_TAG:\n",
    "            train_files.append(video_filename)\n",
    "            train_labels.append(class_name)\n",
    "        elif tag == TEST_TAG:\n",
    "            test_files.append(video_filename)\n",
    "            test_labels.append(class_name)"
   ]
  },
  {
   "cell_type": "markdown",
   "id": "c4becc7e-ae4c-4524-8d4d-c531513601c8",
   "metadata": {},
   "source": [
    "## Obtain Frames (middle)"
   ]
  },
  {
   "cell_type": "code",
   "execution_count": 37,
   "id": "d94bd43b-aadb-4f88-a89e-b90bb174dfdf",
   "metadata": {},
   "outputs": [],
   "source": [
    "# Loop over all categories/classes and extract random frame\n",
    "for category in keep_hmdb51:\n",
    "    # set the path to the directory containing the videos\n",
    "    video_dir = f'new_HMDB51/video_data/{category}'\n",
    "\n",
    "    # get a list of all .avi files in the directory\n",
    "    video_files = [f for f in os.listdir(video_dir) if f.endswith('.avi')]\n",
    "\n",
    "    # iterate over each video file\n",
    "    for video_file in video_files:\n",
    "\n",
    "        video_path = os.path.join(video_dir, video_file)\n",
    "        video = cv2.VideoCapture(video_path)\n",
    "        num_frames = int(video.get(cv2.CAP_PROP_FRAME_COUNT))\n",
    "\n",
    "        # obtain the middle frame\n",
    "        frame_num = num_frames//2\n",
    "\n",
    "        # set the frame number to read\n",
    "        video.set(cv2.CAP_PROP_POS_FRAMES, frame_num)\n",
    "        ret, frame = video.read()\n",
    "        video.release()\n",
    "        if ret:\n",
    "            \n",
    "            path = f'new_HMDB51/frames/middle/{category}'\n",
    "            os.makedirs(path, exist_ok=True)\n",
    "            # set the path to save the image\n",
    "            img_path = os.path.join(path, os.path.splitext(video_file)[0] + '.jpg')\n",
    "\n",
    "            # save the image\n",
    "            cv2.imwrite(img_path, frame)\n",
    "        \n",
    "        else:\n",
    "            print('Unable to extract frame!')"
   ]
  },
  {
   "cell_type": "markdown",
   "id": "28b53d4f-7986-4152-9482-c362777ca20c",
   "metadata": {},
   "source": [
    "## Data Load"
   ]
  },
  {
   "cell_type": "code",
   "execution_count": 8,
   "id": "ed3aecc6-a74d-409b-8b54-3033d39be32f",
   "metadata": {},
   "outputs": [],
   "source": [
    "x_train = []\n",
    "x_test = []\n",
    "\n",
    "for file in train_files:\n",
    "    vid_name = file[:-4]\n",
    "    for path, _, files in os.walk('new_HMDB51/frames/middle'):\n",
    "        for file_name in files:\n",
    "            if file_name[:-4] == vid_name:\n",
    "                img = cv2.imread(os.path.join(path, file_name))\n",
    "                img = cv2.resize(img, (112, 112))\n",
    "                x_train.append(img)\n",
    "                \n",
    "for file in test_files:\n",
    "    vid_name = file[:-4]\n",
    "    for path, _, files in os.walk('new_HMDB51/frames/middle'):\n",
    "        for file_name in files:\n",
    "            if file_name[:-4] == vid_name:\n",
    "                img = cv2.imread(os.path.join(path, file_name))\n",
    "                img = cv2.resize(img, (112, 112))\n",
    "                x_test.append(img)\n",
    "                \n",
    "x_train = np.asarray(x_train)/255.\n",
    "x_test = np.asarray(x_test)/255."
   ]
  },
  {
   "cell_type": "code",
   "execution_count": 9,
   "id": "337185a8-60c0-446d-8682-f5544c8e32ac",
   "metadata": {},
   "outputs": [],
   "source": [
    "# Dict to convert string labels to ints\n",
    "str_to_int = {\"clap\":0, \"climb\":1, \"drink\":2, \"jump\":3, \"pour\":4, \"ride_bike\":5, \"ride_horse\":6, \n",
    "              \"run\":7, \"shoot_bow\":8, \"smoke\":9, \"throw\":10, \"wave\":11}\n",
    "\n",
    "y_train = np.array([str_to_int[label] for label in train_labels])\n",
    "y_test = np.array([str_to_int[label] for label in test_labels])"
   ]
  },
  {
   "cell_type": "markdown",
   "id": "55966d90-16b3-4684-8850-9b1bf378ac5f",
   "metadata": {},
   "source": [
    "## Load Stanford40 CNN"
   ]
  },
  {
   "cell_type": "code",
   "execution_count": null,
   "id": "92d80f1b-b098-4d5d-a40b-b17a42153ef8",
   "metadata": {},
   "outputs": [],
   "source": [
    "# Baseline from Assignment 4\n",
    "model = tf.keras.Sequential([\n",
    "    tf.keras.layers.Conv2D(filters=32, kernel_size=3, padding='same', activation='relu', input_shape=(112, 112, 3)),\n",
    "    tf.keras.layers.MaxPooling2D(pool_size=2),\n",
    "    tf.keras.layers.Conv2D(filters=64, kernel_size=3, padding='same', activation='relu'),\n",
    "    tf.keras.layers.MaxPooling2D(pool_size=2),\n",
    "    tf.keras.layers.Conv2D(filters=128, kernel_size=3, padding='same', activation='relu'),\n",
    "    tf.keras.layers.MaxPooling2D(pool_size=2),\n",
    "    tf.keras.layers.Flatten(),\n",
    "    tf.keras.layers.Dense(units=512, activation='relu'),\n",
    "    tf.keras.layers.Dropout(0.5),\n",
    "    tf.keras.layers.Dense(units=12, activation='softmax')\n",
    "])\n",
    "\n",
    "model.compile(optimizer=Adam(learning_rate=0.0005), loss='sparse_categorical_crossentropy', metrics=['accuracy'])\n",
    "\n",
    "# Load weights from Stanford dataset\n",
    "model.load_weights('weights/stanford.h5')\n",
    "\n",
    "# Freeze the convolutional layers of the model\n",
    "model.layers[0].trainable = False\n",
    "model.layers[2].trainable = False\n",
    "model.layers[4].trainable = False"
   ]
  },
  {
   "cell_type": "code",
   "execution_count": 16,
   "id": "3a43ebe8-d302-412a-958b-33afdbeff490",
   "metadata": {},
   "outputs": [
    {
     "name": "stdout",
     "output_type": "stream",
     "text": [
      "Model: \"sequential\"\n",
      "_________________________________________________________________\n",
      " Layer (type)                Output Shape              Param #   \n",
      "=================================================================\n",
      " conv2d (Conv2D)             (None, 112, 112, 32)      896       \n",
      "                                                                 \n",
      " max_pooling2d (MaxPooling2D  (None, 56, 56, 32)       0         \n",
      " )                                                               \n",
      "                                                                 \n",
      " conv2d_1 (Conv2D)           (None, 56, 56, 64)        18496     \n",
      "                                                                 \n",
      " max_pooling2d_1 (MaxPooling  (None, 28, 28, 64)       0         \n",
      " 2D)                                                             \n",
      "                                                                 \n",
      " conv2d_2 (Conv2D)           (None, 28, 28, 128)       73856     \n",
      "                                                                 \n",
      " max_pooling2d_2 (MaxPooling  (None, 14, 14, 128)      0         \n",
      " 2D)                                                             \n",
      "                                                                 \n",
      " flatten (Flatten)           (None, 25088)             0         \n",
      "                                                                 \n",
      " dense (Dense)               (None, 512)               12845568  \n",
      "                                                                 \n",
      " dropout (Dropout)           (None, 512)               0         \n",
      "                                                                 \n",
      " dense_1 (Dense)             (None, 12)                6156      \n",
      "                                                                 \n",
      "=================================================================\n",
      "Total params: 12,944,972\n",
      "Trainable params: 12,851,724\n",
      "Non-trainable params: 93,248\n",
      "_________________________________________________________________\n"
     ]
    }
   ],
   "source": [
    "model.summary()"
   ]
  },
  {
   "cell_type": "markdown",
   "id": "ba9e48e5-b50f-4dd0-9b7d-174c72d11a67",
   "metadata": {},
   "source": [
    "## Fine-tuning"
   ]
  },
  {
   "cell_type": "code",
   "execution_count": 11,
   "id": "140df510-def8-4b22-a63f-9b041e548228",
   "metadata": {},
   "outputs": [
    {
     "name": "stdout",
     "output_type": "stream",
     "text": [
      "Epoch 1/10\n"
     ]
    },
    {
     "name": "stderr",
     "output_type": "stream",
     "text": [
      "2023-04-15 20:19:01.065803: W tensorflow/tsl/framework/cpu_allocator_impl.cc:82] Allocation of 126443520 exceeds 10% of free system memory.\n"
     ]
    },
    {
     "name": "stdout",
     "output_type": "stream",
     "text": [
      "27/27 [==============================] - 11s 365ms/step - loss: 3.2968 - accuracy: 0.2131\n",
      "Epoch 2/10\n",
      "27/27 [==============================] - 10s 384ms/step - loss: 2.0071 - accuracy: 0.3476\n",
      "Epoch 3/10\n",
      "27/27 [==============================] - 11s 418ms/step - loss: 1.6837 - accuracy: 0.4595\n",
      "Epoch 4/10\n",
      "27/27 [==============================] - 10s 383ms/step - loss: 1.3560 - accuracy: 0.5679\n",
      "Epoch 5/10\n",
      "27/27 [==============================] - 11s 403ms/step - loss: 1.0218 - accuracy: 0.6857\n",
      "Epoch 6/10\n",
      "27/27 [==============================] - 10s 388ms/step - loss: 0.7408 - accuracy: 0.7679\n",
      "Epoch 7/10\n",
      "27/27 [==============================] - 11s 392ms/step - loss: 0.5360 - accuracy: 0.8381\n",
      "Epoch 8/10\n",
      "27/27 [==============================] - 14s 529ms/step - loss: 0.3547 - accuracy: 0.9083\n",
      "Epoch 9/10\n",
      "27/27 [==============================] - 13s 470ms/step - loss: 0.2388 - accuracy: 0.9286\n",
      "Epoch 10/10\n",
      "27/27 [==============================] - 10s 382ms/step - loss: 0.1756 - accuracy: 0.9595\n"
     ]
    }
   ],
   "source": [
    "history = model.fit(x_train, y_train, epochs=10, batch_size=32)"
   ]
  },
  {
   "cell_type": "markdown",
   "id": "0ff06829-c031-4723-8d6c-c881b11fa104",
   "metadata": {},
   "source": [
    "## Plotting"
   ]
  },
  {
   "cell_type": "code",
   "execution_count": 13,
   "id": "d9e808b0-2fdc-4c29-b19c-6940e598d37c",
   "metadata": {},
   "outputs": [],
   "source": [
    "# Function for plotting accuracy over epochs\n",
    "def plot_acc(history):\n",
    "    plt.plot(history.history['accuracy'])\n",
    "    # plt.plot(history.history['val_accuracy'])\n",
    "    plt.title('Training accuracy')\n",
    "    plt.ylabel('Accuracy')\n",
    "    plt.xlabel('Epoch')\n",
    "    # plt.legend(['Training', 'Validation'], loc='upper left')\n",
    "    plt.show()\n",
    "    \n",
    "# Function for plotting loss over epochs\n",
    "def plot_loss(history):\n",
    "    plt.plot(history.history['loss'])\n",
    "    # plt.plot(history.history['val_loss'])\n",
    "    plt.title('Training loss')\n",
    "    plt.ylabel('Loss')\n",
    "    plt.xlabel('Epoch')\n",
    "    # plt.legend(['Training', 'Validation'], loc='upper left')\n",
    "    plt.show()"
   ]
  },
  {
   "cell_type": "code",
   "execution_count": 14,
   "id": "9cea099f-fc9b-455f-a953-530113bf3d4f",
   "metadata": {},
   "outputs": [
    {
     "data": {
      "image/png": "[encoded data removed]",
      "text/plain": [
       "<Figure size 640x480 with 1 Axes>"
      ]
     },
     "metadata": {},
     "output_type": "display_data"
    },
    {
     "data": {
      "image/png": "[encoded data removed]",
      "text/plain": [
       "<Figure size 640x480 with 1 Axes>"
      ]
     },
     "metadata": {},
     "output_type": "display_data"
    }
   ],
   "source": [
    "plot_acc(history)\n",
    "plot_loss(history)"
   ]
  },
  {
   "cell_type": "markdown",
   "id": "4f900cf9-f099-4db1-92c2-678a6cf71c0a",
   "metadata": {},
   "source": [
    "## Testing"
   ]
  },
  {
   "cell_type": "code",
   "execution_count": 15,
   "id": "42052006-cc71-418c-8dc7-5a2907a29502",
   "metadata": {},
   "outputs": [
    {
     "name": "stdout",
     "output_type": "stream",
     "text": [
      "12/12 [==============================] - 1s 65ms/step - loss: 3.2169 - accuracy: 0.2861\n"
     ]
    }
   ],
   "source": [
    "result = model.evaluate(x_test, y_test, batch_size=32)"
   ]
  },
  {
   "cell_type": "code",
   "execution_count": null,
   "id": "18364efa-9234-492a-bb3a-47593d1ebcb2",
   "metadata": {},
   "outputs": [],
   "source": []
  }
 ],
 "metadata": {
  "kernelspec": {
   "display_name": "Python 3 (ipykernel)",
   "language": "python",
   "name": "python3"
  },
  "language_info": {
   "codemirror_mode": {
    "name": "ipython",
    "version": 3
   },
   "file_extension": ".py",
   "mimetype": "text/x-python",
   "name": "python",
   "nbconvert_exporter": "python",
   "pygments_lexer": "ipython3",
   "version": "3.9.12"
  }
 },
 "nbformat": 4,
 "nbformat_minor": 5
}
