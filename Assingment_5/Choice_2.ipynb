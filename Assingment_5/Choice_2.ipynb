{
 "cells": [
  {
   "cell_type": "markdown",
   "id": "f2b3fd56-066f-4adf-a623-e61d85ef7d75",
   "metadata": {},
   "source": [
    "## Dependencies"
   ]
  },
  {
   "cell_type": "code",
   "execution_count": null,
   "id": "86cab8f5-0dff-43f3-bec5-f86520696a72",
   "metadata": {},
   "outputs": [],
   "source": [
    "import os\n",
    "import shutil\n",
    "import cv2\n",
    "import random\n",
    "import numpy as np\n",
    "from collections import Counter\n",
    "from sklearn.model_selection import train_test_split\n",
    "import tensorflow as tf\n",
    "from tensorflow.keras.optimizers import Adam\n",
    "from random import randint"
   ]
  },
  {
   "cell_type": "markdown",
   "id": "ede0d841-f957-46fa-99aa-36b769d1f157",
   "metadata": {},
   "source": [
    "## Data Load"
   ]
  },
  {
   "cell_type": "code",
   "execution_count": 6,
   "id": "d0e7cac6-cb1e-4995-b112-b86e7bc58e4f",
   "metadata": {},
   "outputs": [],
   "source": [
    "keep_stanford40 = [\"applauding\", \"climbing\", \"drinking\", \"jumping\", \"pouring_liquid\", \"riding_a_bike\", \"riding_a_horse\", \n",
    "        \"running\", \"shooting_an_arrow\", \"smoking\", \"throwing_frisby\", \"waving_hands\"]\n",
    "\n",
    "with open('Stanford40/ImageSplits/train.txt', 'r') as f:\n",
    "    # We won't use these splits but split them ourselves\n",
    "    train_files = [file_name for file_name in list(map(str.strip, f.readlines())) if '_'.join(file_name.split('_')[:-1]) in keep_stanford40]\n",
    "    train_labels = ['_'.join(name.split('_')[:-1]) for name in train_files]\n",
    "\n",
    "    \n",
    "with open('Stanford40/ImageSplits/test.txt', 'r') as f:\n",
    "    # We won't use these splits but split them ourselves\n",
    "    test_files = [file_name for file_name in list(map(str.strip, f.readlines())) if '_'.join(file_name.split('_')[:-1]) in keep_stanford40]\n",
    "    test_labels = ['_'.join(name.split('_')[:-1]) for name in test_files]\n",
    "\n",
    "# Combine the splits and split for keeping more images in the training set than the test set.\n",
    "all_files = train_files + test_files\n",
    "all_labels = train_labels + test_labels\n",
    "train_files, test_files = train_test_split(all_files, test_size=0.1, random_state=0, stratify=all_labels)\n",
    "train_labels = ['_'.join(name.split('_')[:-1]) for name in train_files]\n",
    "test_labels = ['_'.join(name.split('_')[:-1]) for name in test_files]\n",
    "action_categories = sorted(list(set(train_labels)))"
   ]
  },
  {
   "cell_type": "code",
   "execution_count": 7,
   "id": "e2b5af68-a431-4a57-89b2-0fc708d26458",
   "metadata": {},
   "outputs": [],
   "source": [
    "train_files, val_files = train_test_split(train_files, test_size=0.1, random_state=0, stratify=train_labels)\n",
    "train_labels = ['_'.join(name.split('_')[:-1]) for name in train_files]\n",
    "val_labels = ['_'.join(name.split('_')[:-1]) for name in val_files]"
   ]
  },
  {
   "cell_type": "code",
   "execution_count": 8,
   "id": "e924d1ac-1084-464b-9f6e-997d33230772",
   "metadata": {},
   "outputs": [],
   "source": [
    "str_to_int = {\"applauding\": 0, \"climbing\": 1, \"drinking\": 2, \"jumping\":3 , \"pouring_liquid\":4, \"riding_a_bike\":5, \"riding_a_horse\":6, \n",
    "              \"running\":7, \"shooting_an_arrow\":8, \"smoking\":9, \"throwing_frisby\":10, \"waving_hands\":11}\n",
    "\n",
    "y_train = np.array([str_to_int[label] for label in train_labels])\n",
    "y_val = np.array([str_to_int[label] for label in val_labels])\n",
    "y_test = np.array([str_to_int[label] for label in test_labels])"
   ]
  },
  {
   "cell_type": "code",
   "execution_count": null,
   "id": "fecc9988-651e-4f20-adcd-5a3ff0b75fec",
   "metadata": {},
   "outputs": [],
   "source": [
    "x_train = []\n",
    "for i, file in enumerate(train_files):\n",
    "    img = cv2.imread(os.path.join('Stanford40/JPEGImages/', file))\n",
    "    img = cv2.resize(img, (112, 112))\n",
    "    x_train.append(img)\n",
    "x_train = np.asarray(x_train)/255."
   ]
  },
  {
   "cell_type": "code",
   "execution_count": null,
   "id": "8061c129-6abf-4405-9cc2-f44edcde45c8",
   "metadata": {},
   "outputs": [],
   "source": [
    "x_val = []\n",
    "for i, file in enumerate(val_files):\n",
    "    img = cv2.imread(os.path.join('Stanford40/JPEGImages/', file))\n",
    "    img = cv2.resize(img, (112, 112))\n",
    "    x_val.append(img)\n",
    "x_val = np.asarray(x_val)/255."
   ]
  },
  {
   "cell_type": "code",
   "execution_count": 38,
   "id": "2514b9c3-2c3b-4ada-8947-3f80b40f3e02",
   "metadata": {},
   "outputs": [],
   "source": [
    "x_test = []\n",
    "for i, file in enumerate(test_files):\n",
    "    img = cv2.imread(os.path.join('Stanford40/JPEGImages/', file))\n",
    "    img = cv2.resize(img, (112, 112))\n",
    "    x_test.append(img)\n",
    "x_test = np.asarray(x_test)/255."
   ]
  },
  {
   "cell_type": "code",
   "execution_count": null,
   "id": "b8426a52-8197-439b-a88c-d51504fa3f1c",
   "metadata": {},
   "outputs": [],
   "source": [
    "# Fetching all the files to directory\n",
    "for file_name in train_files:\n",
    "   shutil.copy(\"Stanford40/JPEGImages/\"+file_name, \"Stanford40/data/train/\"+file_name)\n",
    "\n",
    "# Fetching all the files to directory\n",
    "for file_name in val_files:\n",
    "   shutil.copy(\"Stanford40/JPEGImages/\"+file_name, \"Stanford40/data/val/\"+file_name)\n",
    "\n",
    "# Fetching all the files to directory\n",
    "for file_name in test_files:\n",
    "   shutil.copy(\"Stanford40/JPEGImages/\"+file_name, \"Stanford40/data/test/\"+file_name)"
   ]
  },
  {
   "cell_type": "markdown",
   "id": "fcb282a8-3a23-4b9d-b0a1-b416cbfa4d47",
   "metadata": {},
   "source": [
    "## Data Augmentation"
   ]
  },
  {
   "cell_type": "code",
   "execution_count": null,
   "id": "bd1affdc-a049-45de-9d51-702007acb449",
   "metadata": {},
   "outputs": [],
   "source": [
    "# Define the types of augmentations to perform\n",
    "augmentations = {\n",
    "    'rotate': (-30, 30),  # rotation range in degrees\n",
    "    'scale': (0.5, 1.5),  # scaling range\n",
    "    'shear': (-20, 20),   # shearing range in degrees\n",
    "    'brightness': (0.5, 1.5),  # brightness range\n",
    "    'flip': True         # horizontal flipping\n",
    "}\n",
    "\n",
    "# Define the number of augmented images to create per original image\n",
    "num_augmentations = 3\n",
    "\n",
    "# Define a function to perform data augmentation\n",
    "def augment_image(img_path, augmentations, num_augmentations):\n",
    "    # Load the original image using OpenCV\n",
    "    img = cv2.imread(img_path)\n",
    "\n",
    "    # Loop over the number of augmentations to create\n",
    "    for i in range(num_augmentations):\n",
    "        # Copy the original image to apply the augmentations to\n",
    "        augmented_img = img.copy()\n",
    "\n",
    "        # Apply the specified augmentations\n",
    "        if augmentations['rotate']:\n",
    "            angle = randint(*augmentations['rotate'])\n",
    "            rows, cols, _ = img.shape\n",
    "            M = cv2.getRotationMatrix2D((cols/2, rows/2), angle, 1)\n",
    "            augmented_img = cv2.warpAffine(augmented_img, M, (cols, rows))\n",
    "\n",
    "        if augmentations['scale']:\n",
    "            scale = randint(*augmentations['scale'])\n",
    "            rows, cols, _ = img.shape\n",
    "            M = cv2.getAffineTransform(\n",
    "                np.float32([[0, 0], [cols-1, 0], [0, rows-1]]),\n",
    "                np.float32([[0, 0], [cols*scale-1, 0], [0, rows*scale-1]])\n",
    "            )\n",
    "            augmented_img = cv2.warpAffine(augmented_img, M, (cols, rows))\n",
    "\n",
    "        if augmentations['shear']:\n",
    "            angle = randint(*augmentations['shear'])\n",
    "            rows, cols, _ = img.shape\n",
    "            M = np.float32([[1, np.tan(angle*np.pi/180), 0], [0, 1, 0]])\n",
    "            augmented_img = cv2.warpAffine(augmented_img, M, (cols, rows))\n",
    "\n",
    "        if augmentations['brightness']:\n",
    "            brightness = randint(*augmentations['brightness'])\n",
    "            hsv = cv2.cvtColor(augmented_img, cv2.COLOR_BGR2HSV)\n",
    "            hsv[:, :, 2] = np.clip(hsv[:, :, 2]*brightness, 0, 255)\n",
    "            augmented_img = cv2.cvtColor(hsv, cv2.COLOR_HSV2BGR)\n",
    "\n",
    "        if augmentations['flip']:\n",
    "            if randint(0, 1) == 1:\n",
    "                augmented_img = cv2.flip(augmented_img, 1)\n",
    "\n",
    "        # Save the augmented image to a file\n",
    "        file_name, ext = os.path.splitext(img_path)\n",
    "        save_path = f\"{file_name}_augmented_{i+1}{ext}\"\n",
    "        cv2.imwrite(save_path, augmented_img)"
   ]
  },
  {
   "cell_type": "code",
   "execution_count": 43,
   "id": "01b41180-2230-4dec-939c-a20339bebd36",
   "metadata": {},
   "outputs": [],
   "source": [
    "def augment_img(img, method):\n",
    "    img_copy = img.copy()\n",
    "    \n",
    "    if method == 'rotate':\n",
    "        angle = randint(*(-30, 30))\n",
    "        rows, cols, _ = img.shape\n",
    "        M = cv2.getRotationMatrix2D((cols/2, rows/2), angle, 1)\n",
    "        augmented_img = cv2.warpAffine(img_copy, M, (cols, rows))\n",
    "\n",
    "    if method == 'scale':\n",
    "        scale = random.choice([0.5, 1.5, 2, 2.5])\n",
    "        rows, cols, _ = img.shape\n",
    "        M = cv2.getAffineTransform(\n",
    "            np.float32([[0, 0], [cols-1, 0], [0, rows-1]]),\n",
    "            np.float32([[0, 0], [cols*scale-1, 0], [0, rows*scale-1]])\n",
    "        )\n",
    "        augmented_img = cv2.warpAffine(img_copy, M, (cols, rows))\n",
    "\n",
    "    if method == 'shear':\n",
    "        angle = randint(*(-20, 20))\n",
    "        rows, cols, _ = img.shape\n",
    "        M = np.float32([[1, np.tan(angle*np.pi/180), 0], [0, 1, 0]])\n",
    "        augmented_img = cv2.warpAffine(img_copy, M, (cols, rows))\n",
    "        \n",
    "    return augmented_img"
   ]
  },
  {
   "cell_type": "code",
   "execution_count": 61,
   "id": "0458c5e8-991e-47af-9caa-4b48242af218",
   "metadata": {},
   "outputs": [],
   "source": [
    "x_test = []\n",
    "for i, file in enumerate(test_files):\n",
    "    img = cv2.imread(os.path.join('Stanford40/JPEGImages/', file))\n",
    "    img = cv2.resize(img, (112, 112))\n",
    "    x_test.append(img)"
   ]
  },
  {
   "cell_type": "code",
   "execution_count": 62,
   "id": "727a71c3-afdf-431a-b278-280d3a5d9caa",
   "metadata": {},
   "outputs": [],
   "source": [
    "str_to_int = {\"applauding\": 0, \"climbing\": 1, \"drinking\": 2, \"jumping\":3 , \"pouring_liquid\":4, \"riding_a_bike\":5, \"riding_a_horse\":6, \n",
    "              \"running\":7, \"shooting_an_arrow\":8, \"smoking\":9, \"throwing_frisby\":10, \"waving_hands\":11}\n",
    "\n",
    "y_test = [str_to_int[label] for label in test_labels]"
   ]
  },
  {
   "cell_type": "code",
   "execution_count": 64,
   "id": "4b1270e3-943e-4179-af54-93965b0339ae",
   "metadata": {},
   "outputs": [],
   "source": [
    "methods = ['rotate', 'scale', 'shear']\n",
    "\n",
    "for i, img in enumerate(x_test[:50]):\n",
    "    for method in methods:\n",
    "        augmented_img = augment_img(img, method)\n",
    "        x_test.append(augmented_img)\n",
    "        y_test.append(y_test[i])"
   ]
  },
  {
   "cell_type": "code",
   "execution_count": 65,
   "id": "df1c656c-d5a9-423c-963d-c5a9e69c4752",
   "metadata": {},
   "outputs": [
    {
     "name": "stdout",
     "output_type": "stream",
     "text": [
      "454\n",
      "454\n"
     ]
    }
   ],
   "source": [
    "print(len(x_test))\n",
    "print(len(y_test))"
   ]
  }
 ],
 "metadata": {
  "kernelspec": {
   "display_name": "Python 3 (ipykernel)",
   "language": "python",
   "name": "python3"
  },
  "language_info": {
   "codemirror_mode": {
    "name": "ipython",
    "version": 3
   },
   "file_extension": ".py",
   "mimetype": "text/x-python",
   "name": "python",
   "nbconvert_exporter": "python",
   "pygments_lexer": "ipython3",
   "version": "3.9.12"
  }
 },
 "nbformat": 4,
 "nbformat_minor": 5
}
