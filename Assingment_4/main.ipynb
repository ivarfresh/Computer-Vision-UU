{
 "cells": [
  {
   "cell_type": "markdown",
   "id": "fd68fd42-abaa-4792-af73-9f4e7a419112",
   "metadata": {},
   "source": [
    "## Dependencies"
   ]
  },
  {
   "cell_type": "code",
   "execution_count": 32,
   "id": "879b72b2-b01d-46fb-948f-636bb257e1ea",
   "metadata": {},
   "outputs": [],
   "source": [
    "import cv2 as cv\n",
    "import tensorflow as tf\n",
    "from sklearn.model_selection import train_test_split\n",
    "from keras.datasets import fashion_mnist\n",
    "import matplotlib.pyplot as plt"
   ]
  },
  {
   "cell_type": "markdown",
   "id": "431be816-d898-45bf-95ca-798125d0e794",
   "metadata": {},
   "source": [
    "## Data Load & Split"
   ]
  },
  {
   "cell_type": "code",
   "execution_count": 26,
   "id": "aaba470d-37b7-4c4b-8cb9-9e26b3a5d292",
   "metadata": {},
   "outputs": [],
   "source": [
    "# Load the training and test set\n",
    "(x_train, y_train), (x_test, y_test) = fashion_mnist.load_data()\n",
    "\n",
    "# Split the training set into training and validation sets\n",
    "x_train, x_val, y_train, y_val = train_test_split(x_train, y_train, test_size=0.2, random_state=42)\n",
    "\n",
    "# Normalize pixel values to range [0,1]\n",
    "x_train = x_train.astype('float32') / 255.\n",
    "x_test = x_test.astype('float32') / 255.\n",
    "x_val = x_val.astype('float32') / 255.\n",
    "\n",
    "# Reshape data to have a single channel\n",
    "x_train = x_train.reshape((x_train.shape[0], 28, 28, 1))\n",
    "x_test = x_test.reshape((x_test.shape[0], 28, 28, 1))\n",
    "x_val = x_val.reshape((x_val.shape[0], 28, 28, 1))\n",
    "\n",
    "# # Print the shapes of the datasets\n",
    "# print('Training set shape:', x_train.shape, y_train.shape)\n",
    "# print('Validation set shape:', x_val.shape, y_val.shape)\n",
    "# print('Testing set shape:', x_test.shape, y_test.shape)"
   ]
  },
  {
   "cell_type": "markdown",
   "id": "0b8c24bf-b250-44c3-8d09-5b3f786616ad",
   "metadata": {},
   "source": [
    "## CNN Models"
   ]
  },
  {
   "cell_type": "markdown",
   "id": "7332279c-3566-45b6-8eeb-95cecdd8e77a",
   "metadata": {},
   "source": [
    "### Baseline"
   ]
  },
  {
   "cell_type": "code",
   "execution_count": null,
   "id": "4d4451d8-a2ec-4bb4-bec0-5f4f6be3340a",
   "metadata": {},
   "outputs": [],
   "source": [
    "model = tf.keras.Sequential([\n",
    "    tf.keras.layers.Conv2D(filters=32, kernel_size=3, padding='same', activation='relu', input_shape=(28, 28, 1)),\n",
    "    tf.keras.layers.MaxPooling2D(pool_size=2),\n",
    "    tf.keras.layers.Conv2D(filters=64, kernel_size=3, padding='same', activation='relu'),\n",
    "    tf.keras.layers.MaxPooling2D(pool_size=2),\n",
    "    tf.keras.layers.Flatten(),\n",
    "    tf.keras.layers.Dense(units=128, activation='relu'),\n",
    "    tf.keras.layers.Dense(units=10, activation='softmax')\n",
    "])"
   ]
  },
  {
   "cell_type": "markdown",
   "id": "720d9b98-ad0c-4973-8304-4af0dc763da9",
   "metadata": {},
   "source": [
    "### Variant 1: Batch Normalization"
   ]
  },
  {
   "cell_type": "code",
   "execution_count": null,
   "id": "052c7fa1-2ab7-4da5-80d6-2212019fa0a8",
   "metadata": {},
   "outputs": [],
   "source": [
    "variant1 = tf.keras.Sequential([\n",
    "    tf.keras.layers.Conv2D(filters=32, kernel_size=3, padding='same', activation='relu', input_shape=(28, 28, 1)),\n",
    "    tf.keras.layers.BatchNormalization(),\n",
    "    tf.keras.layers.MaxPooling2D(pool_size=2),\n",
    "    tf.keras.layers.Conv2D(filters=64, kernel_size=3, padding='same', activation='relu'),\n",
    "    tf.keras.layers.BatchNormalization(),\n",
    "    tf.keras.layers.MaxPooling2D(pool_size=2),\n",
    "    tf.keras.layers.Flatten(),\n",
    "    tf.keras.layers.Dense(units=128, activation='relu'),\n",
    "    tf.keras.layers.Dense(units=10, activation='softmax')\n",
    "])"
   ]
  },
  {
   "cell_type": "markdown",
   "id": "f391efa4-a8fd-405d-bac3-25ca5460addc",
   "metadata": {},
   "source": [
    "### Variant 2: More Filters"
   ]
  },
  {
   "cell_type": "code",
   "execution_count": null,
   "id": "27198cdf-6025-49cc-b63f-45107736bb3d",
   "metadata": {},
   "outputs": [],
   "source": [
    "variant2 = tf.keras.Sequential([\n",
    "    tf.keras.layers.Conv2D(filters=64, kernel_size=3, padding='same', activation='relu', input_shape=(28, 28, 1)),\n",
    "    tf.keras.layers.MaxPooling2D(pool_size=2),\n",
    "    tf.keras.layers.Conv2D(filters=64, kernel_size=3, padding='same', activation='relu'),\n",
    "    tf.keras.layers.MaxPooling2D(pool_size=2),\n",
    "    tf.keras.layers.Flatten(),\n",
    "    tf.keras.layers.Dense(units=128, activation='relu'),\n",
    "    tf.keras.layers.Dense(units=10, activation='softmax')\n",
    "])"
   ]
  },
  {
   "cell_type": "markdown",
   "id": "0beb028a-b91f-4709-9087-555cefc38132",
   "metadata": {},
   "source": [
    "### Variant 3: Dropout"
   ]
  },
  {
   "cell_type": "code",
   "execution_count": 40,
   "id": "e98fb9e6-3aa5-4839-9973-1b40401e53f1",
   "metadata": {},
   "outputs": [],
   "source": [
    "variant3 = tf.keras.Sequential([\n",
    "    tf.keras.layers.Conv2D(filters=32, kernel_size=3, padding='same', activation='relu', input_shape=(28, 28, 1)),\n",
    "    tf.keras.layers.MaxPooling2D(pool_size=2),\n",
    "    tf.keras.layers.Conv2D(filters=64, kernel_size=3, padding='same', activation='relu'),\n",
    "    tf.keras.layers.MaxPooling2D(pool_size=2),\n",
    "    tf.keras.layers.Flatten(),\n",
    "    tf.keras.layers.Dropout(rate=0.25),\n",
    "    tf.keras.layers.Dense(units=128, activation='relu'),\n",
    "    tf.keras.layers.Dense(units=10, activation='softmax')\n",
    "])"
   ]
  },
  {
   "cell_type": "markdown",
   "id": "bbe5f39b-95d8-428b-8f61-9874cf983cc9",
   "metadata": {},
   "source": [
    "### Variant 4: Extra Convolution Layer"
   ]
  },
  {
   "cell_type": "code",
   "execution_count": null,
   "id": "79c98c12-d6e4-4f91-9b50-8a920e0a2a5d",
   "metadata": {},
   "outputs": [],
   "source": [
    "variant4 = tf.keras.Sequential([\n",
    "    tf.keras.layers.Conv2D(filters=32, kernel_size=3, padding='same', activation='relu', input_shape=(28, 28, 1)),\n",
    "    tf.keras.layers.MaxPooling2D(pool_size=2),\n",
    "    tf.keras.layers.Conv2D(filters=64, kernel_size=3, padding='same', activation='relu'),\n",
    "    tf.keras.layers.MaxPooling2D(pool_size=2),\n",
    "    tf.keras.layers.Conv2D(filters=64, kernel_size=3, padding='same', activation='relu'),\n",
    "    tf.keras.layers.MaxPooling2D(pool_size=2),\n",
    "    tf.keras.layers.Flatten(),\n",
    "    tf.keras.layers.Dense(units=128, activation='relu'),\n",
    "    tf.keras.layers.Dense(units=10, activation='softmax')\n",
    "])"
   ]
  },
  {
   "cell_type": "markdown",
   "id": "5f6c2360-6636-489c-9b05-72971158e5a1",
   "metadata": {},
   "source": [
    "## Training & Testing"
   ]
  },
  {
   "cell_type": "code",
   "execution_count": 41,
   "id": "8a73cbd6-0a0c-4cda-810d-79f72bcd8c56",
   "metadata": {},
   "outputs": [
    {
     "name": "stdout",
     "output_type": "stream",
     "text": [
      "Epoch 1/10\n",
      "1500/1500 [==============================] - 27s 18ms/step - loss: 0.4362 - accuracy: 0.8424 - val_loss: 0.3314 - val_accuracy: 0.8783\n",
      "Epoch 2/10\n",
      "1500/1500 [==============================] - 24s 16ms/step - loss: 0.2946 - accuracy: 0.8929 - val_loss: 0.2581 - val_accuracy: 0.9044\n",
      "Epoch 3/10\n",
      "1500/1500 [==============================] - 24s 16ms/step - loss: 0.2514 - accuracy: 0.9072 - val_loss: 0.2442 - val_accuracy: 0.9097\n",
      "Epoch 4/10\n",
      "1500/1500 [==============================] - 25s 16ms/step - loss: 0.2182 - accuracy: 0.9191 - val_loss: 0.2338 - val_accuracy: 0.9140\n",
      "Epoch 5/10\n",
      "1500/1500 [==============================] - 27s 18ms/step - loss: 0.1977 - accuracy: 0.9264 - val_loss: 0.2143 - val_accuracy: 0.9210\n",
      "Epoch 6/10\n",
      "1500/1500 [==============================] - 28s 18ms/step - loss: 0.1770 - accuracy: 0.9325 - val_loss: 0.2258 - val_accuracy: 0.9182\n",
      "Epoch 7/10\n",
      "1500/1500 [==============================] - 27s 18ms/step - loss: 0.1601 - accuracy: 0.9399 - val_loss: 0.2086 - val_accuracy: 0.9268\n",
      "Epoch 8/10\n",
      "1500/1500 [==============================] - 27s 18ms/step - loss: 0.1459 - accuracy: 0.9453 - val_loss: 0.2109 - val_accuracy: 0.9253\n",
      "Epoch 9/10\n",
      "1500/1500 [==============================] - 28s 19ms/step - loss: 0.1320 - accuracy: 0.9494 - val_loss: 0.2113 - val_accuracy: 0.9264\n",
      "Epoch 10/10\n",
      "1500/1500 [==============================] - 27s 18ms/step - loss: 0.1194 - accuracy: 0.9551 - val_loss: 0.2167 - val_accuracy: 0.9270\n",
      "313/313 [==============================] - 2s 5ms/step - loss: 0.2515 - accuracy: 0.9188\n",
      "Test accuracy: 0.9187999963760376\n"
     ]
    }
   ],
   "source": [
    "# Compile the model\n",
    "model = variant3\n",
    "model.compile(optimizer='adam', loss='sparse_categorical_crossentropy', metrics=['accuracy'])\n",
    "\n",
    "# Train the model\n",
    "history = model.fit(x_train, y_train, validation_data=(x_val, y_val), epochs=10, batch_size=32)\n",
    "\n",
    "# Evaluate the model on the test set\n",
    "test_loss, test_acc = model.evaluate(x_test, y_test)\n",
    "\n",
    "print('Test accuracy:', test_acc)"
   ]
  },
  {
   "cell_type": "markdown",
   "id": "c74c5043-39fa-470e-9815-95c20ff79513",
   "metadata": {},
   "source": [
    "## Plotting"
   ]
  },
  {
   "cell_type": "code",
   "execution_count": 43,
   "id": "fd4f396e-42f9-4e41-84ab-5f9e57481f33",
   "metadata": {},
   "outputs": [],
   "source": [
    "# Plot testing and validation accuracy values\n",
    "def plot_acc(history):\n",
    "    plt.plot(history.history['val_accuracy'])\n",
    "    plt.plot(history.history['accuracy'])\n",
    "    plt.title('Training and validation accuracy')\n",
    "    plt.ylabel('Accuracy')\n",
    "    plt.xlabel('Epoch')\n",
    "    plt.legend(['Validation', 'Training'], loc='upper left')\n",
    "    plt.show()"
   ]
  },
  {
   "cell_type": "code",
   "execution_count": 44,
   "id": "b199d290-289d-4ab7-b4f4-05fb85a5d1d3",
   "metadata": {},
   "outputs": [
    {
     "data": {
      "image/png": "[encoded data removed]",
      "text/plain": [
       "<Figure size 640x480 with 1 Axes>"
      ]
     },
     "metadata": {},
     "output_type": "display_data"
    }
   ],
   "source": [
    "# Variant 3\n",
    "plot_acc(history)"
   ]
  },
  {
   "cell_type": "code",
   "execution_count": null,
   "id": "fcd5e317-aa61-4e9c-b328-f9750a2a2043",
   "metadata": {},
   "outputs": [],
   "source": []
  }
 ],
 "metadata": {
  "kernelspec": {
   "display_name": "Python 3 (ipykernel)",
   "language": "python",
   "name": "python3"
  },
  "language_info": {
   "codemirror_mode": {
    "name": "ipython",
    "version": 3
   },
   "file_extension": ".py",
   "mimetype": "text/x-python",
   "name": "python",
   "nbconvert_exporter": "python",
   "pygments_lexer": "ipython3",
   "version": "3.9.12"
  }
 },
 "nbformat": 4,
 "nbformat_minor": 5
}
